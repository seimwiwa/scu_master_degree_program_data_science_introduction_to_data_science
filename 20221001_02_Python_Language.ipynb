{
  "nbformat": 4,
  "nbformat_minor": 0,
  "metadata": {
    "colab": {
      "provenance": [],
      "toc_visible": true,
      "authorship_tag": "ABX9TyPMpWaKYndKK1FzkQLgVuhx",
      "include_colab_link": true
    },
    "kernelspec": {
      "name": "python3",
      "display_name": "Python 3"
    },
    "language_info": {
      "name": "python"
    }
  },
  "cells": [
    {
      "cell_type": "markdown",
      "metadata": {
        "id": "view-in-github",
        "colab_type": "text"
      },
      "source": [
        "<a href=\"https://colab.research.google.com/github/seimwiwa/scu_master_degree_program_data_science_introduction_to_data_science/blob/main/20221001_02_Python_Language.ipynb\" target=\"_parent\"><img src=\"https://colab.research.google.com/assets/colab-badge.svg\" alt=\"Open In Colab\"/></a>"
      ]
    },
    {
      "cell_type": "markdown",
      "source": [
        "# Env"
      ],
      "metadata": {
        "id": "1ZmB8mTMHj5Y"
      }
    },
    {
      "cell_type": "code",
      "source": [
        "from math import *"
      ],
      "metadata": {
        "id": "eZ_Ae4mPHmG3"
      },
      "execution_count": null,
      "outputs": []
    },
    {
      "cell_type": "markdown",
      "source": [
        "# Home work"
      ],
      "metadata": {
        "id": "quyJRVUmHlee"
      }
    },
    {
      "cell_type": "markdown",
      "source": [
        "## Home work 1: dela with String\n",
        "假設字串變數 s1 = “Today is Friday”。\n",
        "1. s1 是否包含 ”day”?\n",
        "2. ”day” 出現次數\n",
        "3. ”day” 出現最小索引\n",
        "4. ”day” 出現最大索引\n",
        "5. s1 的第 2 ~ 4 個字元 **粗體文字**"
      ],
      "metadata": {
        "id": "E4K2xeBlHv8e"
      }
    },
    {
      "cell_type": "code",
      "execution_count": null,
      "metadata": {
        "id": "N58uCL0OHeky"
      },
      "outputs": [],
      "source": [
        "var_string_s1 = \"Today is Friday\"\n",
        "var_string_target = \"day\""
      ]
    },
    {
      "cell_type": "markdown",
      "source": [
        "### s1 是否包含 ”day”?"
      ],
      "metadata": {
        "id": "ngdfDLwDInLq"
      }
    },
    {
      "cell_type": "code",
      "source": [
        "var_string_target in var_string_s1"
      ],
      "metadata": {
        "colab": {
          "base_uri": "https://localhost:8080/"
        },
        "id": "wLVPY9BvH0hi",
        "outputId": "c7f1b299-7d6c-43b4-8e81-828e9361f48d"
      },
      "execution_count": null,
      "outputs": [
        {
          "output_type": "execute_result",
          "data": {
            "text/plain": [
              "True"
            ]
          },
          "metadata": {},
          "execution_count": 9
        }
      ]
    },
    {
      "cell_type": "markdown",
      "source": [
        "### ”day” 出現次數\n"
      ],
      "metadata": {
        "id": "5cmmVtCGIomV"
      }
    },
    {
      "cell_type": "code",
      "source": [
        "var_string_s1.count(var_string_target)"
      ],
      "metadata": {
        "colab": {
          "base_uri": "https://localhost:8080/"
        },
        "id": "dmvlFnPgIeM9",
        "outputId": "0f422a2d-b9a5-4103-f4bb-810726a58421"
      },
      "execution_count": null,
      "outputs": [
        {
          "output_type": "execute_result",
          "data": {
            "text/plain": [
              "2"
            ]
          },
          "metadata": {},
          "execution_count": 10
        }
      ]
    },
    {
      "cell_type": "markdown",
      "source": [
        "### ”day” 出現最小索引"
      ],
      "metadata": {
        "id": "fJU3U3t0IsUE"
      }
    },
    {
      "cell_type": "code",
      "source": [
        "var_string_s1.find(var_string_target)"
      ],
      "metadata": {
        "colab": {
          "base_uri": "https://localhost:8080/"
        },
        "id": "uzXk1HUgIzFZ",
        "outputId": "96732507-1b55-4b84-9115-1e7e596fdb35"
      },
      "execution_count": null,
      "outputs": [
        {
          "output_type": "execute_result",
          "data": {
            "text/plain": [
              "2"
            ]
          },
          "metadata": {},
          "execution_count": 11
        }
      ]
    },
    {
      "cell_type": "markdown",
      "source": [
        "### ”day” 出現最大索引"
      ],
      "metadata": {
        "id": "n3w7X2JTIsLM"
      }
    },
    {
      "cell_type": "code",
      "source": [
        "var_string_s1.rfind(var_string_target)"
      ],
      "metadata": {
        "colab": {
          "base_uri": "https://localhost:8080/"
        },
        "id": "kY3DECruIyhO",
        "outputId": "722ec98d-362d-4476-d4fa-a353af93f1c8"
      },
      "execution_count": null,
      "outputs": [
        {
          "output_type": "execute_result",
          "data": {
            "text/plain": [
              "12"
            ]
          },
          "metadata": {},
          "execution_count": 12
        }
      ]
    },
    {
      "cell_type": "markdown",
      "source": [
        "### s1 的第 2 ~ 4 個字元"
      ],
      "metadata": {
        "id": "Ip48QLtBIr3c"
      }
    },
    {
      "cell_type": "code",
      "source": [
        "var_string_s1[1:3]"
      ],
      "metadata": {
        "colab": {
          "base_uri": "https://localhost:8080/",
          "height": 35
        },
        "id": "fLyMzyr9Ix2P",
        "outputId": "2726f062-e5f0-4839-c546-55bb15d1966c"
      },
      "execution_count": null,
      "outputs": [
        {
          "output_type": "execute_result",
          "data": {
            "text/plain": [
              "'od'"
            ],
            "application/vnd.google.colaboratory.intrinsic+json": {
              "type": "string"
            }
          },
          "metadata": {},
          "execution_count": 13
        }
      ]
    },
    {
      "cell_type": "markdown",
      "source": [
        "## Home work 2: salary incresment\n",
        "假設小明的月薪是 25000 元，每年調薪幅度為 3%，請問經過多少年小明的月薪會加倍？"
      ],
      "metadata": {
        "id": "ExSJu-eMJgkk"
      }
    },
    {
      "cell_type": "markdown",
      "source": [
        "$(1 + 0.03)^x >= 2$\n",
        "\n",
        "$log((1+0.03)^x) >= log(2)$\n",
        "\n",
        "$x \\times log(1.03) >= log(2)$\n",
        "\n",
        "$x >= log(2) \\div log(1.03)$"
      ],
      "metadata": {
        "id": "vj83-jRoJ6y_"
      }
    },
    {
      "cell_type": "code",
      "source": [
        "ceil(log(2) / log(1+0.03))"
      ],
      "metadata": {
        "colab": {
          "base_uri": "https://localhost:8080/"
        },
        "id": "RPcjq8lJJ48g",
        "outputId": "01f868c1-4cdd-4189-9c2d-7e864234e909"
      },
      "execution_count": null,
      "outputs": [
        {
          "output_type": "execute_result",
          "data": {
            "text/plain": [
              "24"
            ]
          },
          "metadata": {},
          "execution_count": 33
        }
      ]
    }
  ]
}