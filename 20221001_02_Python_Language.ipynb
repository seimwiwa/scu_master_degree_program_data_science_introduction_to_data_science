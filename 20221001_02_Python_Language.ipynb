{
  "nbformat": 4,
  "nbformat_minor": 0,
  "metadata": {
    "colab": {
      "provenance": [],
      "toc_visible": true,
      "authorship_tag": "ABX9TyMQjgaWqlJqlGIyitw7x+/I",
      "include_colab_link": true
    },
    "kernelspec": {
      "name": "python3",
      "display_name": "Python 3"
    },
    "language_info": {
      "name": "python"
    }
  },
  "cells": [
    {
      "cell_type": "markdown",
      "metadata": {
        "id": "view-in-github",
        "colab_type": "text"
      },
      "source": [
        "<a href=\"https://colab.research.google.com/github/seimwiwa/scu_master_degree_program_data_science_introduction_to_data_science/blob/main/20221001_02_Python_Language.ipynb\" target=\"_parent\"><img src=\"https://colab.research.google.com/assets/colab-badge.svg\" alt=\"Open In Colab\"/></a>"
      ]
    },
    {
      "cell_type": "markdown",
      "source": [
        "# Env"
      ],
      "metadata": {
        "id": "1ZmB8mTMHj5Y"
      }
    },
    {
      "cell_type": "code",
      "source": [
        "# !pip install commonregex"
      ],
      "metadata": {
        "colab": {
          "base_uri": "https://localhost:8080/"
        },
        "id": "n7qc7zSXH-bG",
        "outputId": "45358042-d9ac-47b5-eb5a-b1551a2554b9"
      },
      "execution_count": 3,
      "outputs": [
        {
          "output_type": "stream",
          "name": "stdout",
          "text": [
            "Looking in indexes: https://pypi.org/simple, https://us-python.pkg.dev/colab-wheels/public/simple/\n",
            "Collecting commonregex\n",
            "  Downloading commonregex-1.5.4.tar.gz (2.8 kB)\n",
            "Building wheels for collected packages: commonregex\n",
            "  Building wheel for commonregex (setup.py) ... \u001b[?25l\u001b[?25hdone\n",
            "  Created wheel for commonregex: filename=commonregex-1.5.4-py3-none-any.whl size=3554 sha256=57e7c96d533ad3e5aad832771d61deb79aacb8ab6ba95741790c6b6e54eeace4\n",
            "  Stored in directory: /root/.cache/pip/wheels/30/21/87/1bbd07f2757c9a2ff485ad5b21f78dcf9f3dce050659fcd94f\n",
            "Successfully built commonregex\n",
            "Installing collected packages: commonregex\n",
            "Successfully installed commonregex-1.5.4\n"
          ]
        }
      ]
    },
    {
      "cell_type": "code",
      "source": [
        "from commonregex import CommonRegex\n",
        "from math import *"
      ],
      "metadata": {
        "id": "eZ_Ae4mPHmG3"
      },
      "execution_count": 26,
      "outputs": []
    },
    {
      "cell_type": "markdown",
      "source": [
        "# Home work"
      ],
      "metadata": {
        "id": "quyJRVUmHlee"
      }
    },
    {
      "cell_type": "markdown",
      "source": [
        "## Home work 1: dela with String\n",
        "假設字串變數 s1 = “Today is Friday”。\n",
        "1. s1 是否包含 ”day”?\n",
        "2. ”day” 出現次數\n",
        "3. ”day” 出現最小索引\n",
        "4. ”day” 出現最大索引\n",
        "5. s1 的第 2 ~ 4 個字元 **粗體文字**"
      ],
      "metadata": {
        "id": "E4K2xeBlHv8e"
      }
    },
    {
      "cell_type": "code",
      "execution_count": 8,
      "metadata": {
        "id": "N58uCL0OHeky"
      },
      "outputs": [],
      "source": [
        "var_string_s1 = \"Today is Friday\"\n",
        "var_string_target = \"day\""
      ]
    },
    {
      "cell_type": "markdown",
      "source": [
        "### s1 是否包含 ”day”?"
      ],
      "metadata": {
        "id": "ngdfDLwDInLq"
      }
    },
    {
      "cell_type": "code",
      "source": [
        "var_string_target in var_string_s1"
      ],
      "metadata": {
        "colab": {
          "base_uri": "https://localhost:8080/"
        },
        "id": "wLVPY9BvH0hi",
        "outputId": "c7f1b299-7d6c-43b4-8e81-828e9361f48d"
      },
      "execution_count": 9,
      "outputs": [
        {
          "output_type": "execute_result",
          "data": {
            "text/plain": [
              "True"
            ]
          },
          "metadata": {},
          "execution_count": 9
        }
      ]
    },
    {
      "cell_type": "markdown",
      "source": [
        "### ”day” 出現次數\n"
      ],
      "metadata": {
        "id": "5cmmVtCGIomV"
      }
    },
    {
      "cell_type": "code",
      "source": [
        "var_string_s1.count(var_string_target)"
      ],
      "metadata": {
        "colab": {
          "base_uri": "https://localhost:8080/"
        },
        "id": "dmvlFnPgIeM9",
        "outputId": "0f422a2d-b9a5-4103-f4bb-810726a58421"
      },
      "execution_count": 10,
      "outputs": [
        {
          "output_type": "execute_result",
          "data": {
            "text/plain": [
              "2"
            ]
          },
          "metadata": {},
          "execution_count": 10
        }
      ]
    },
    {
      "cell_type": "markdown",
      "source": [
        "### ”day” 出現最小索引"
      ],
      "metadata": {
        "id": "fJU3U3t0IsUE"
      }
    },
    {
      "cell_type": "code",
      "source": [
        "var_string_s1.find(var_string_target)"
      ],
      "metadata": {
        "colab": {
          "base_uri": "https://localhost:8080/"
        },
        "id": "uzXk1HUgIzFZ",
        "outputId": "96732507-1b55-4b84-9115-1e7e596fdb35"
      },
      "execution_count": 11,
      "outputs": [
        {
          "output_type": "execute_result",
          "data": {
            "text/plain": [
              "2"
            ]
          },
          "metadata": {},
          "execution_count": 11
        }
      ]
    },
    {
      "cell_type": "markdown",
      "source": [
        "### ”day” 出現最大索引"
      ],
      "metadata": {
        "id": "n3w7X2JTIsLM"
      }
    },
    {
      "cell_type": "code",
      "source": [
        "var_string_s1.rfind(var_string_target)"
      ],
      "metadata": {
        "colab": {
          "base_uri": "https://localhost:8080/"
        },
        "id": "kY3DECruIyhO",
        "outputId": "722ec98d-362d-4476-d4fa-a353af93f1c8"
      },
      "execution_count": 12,
      "outputs": [
        {
          "output_type": "execute_result",
          "data": {
            "text/plain": [
              "12"
            ]
          },
          "metadata": {},
          "execution_count": 12
        }
      ]
    },
    {
      "cell_type": "markdown",
      "source": [
        "### s1 的第 2 ~ 4 個字元"
      ],
      "metadata": {
        "id": "Ip48QLtBIr3c"
      }
    },
    {
      "cell_type": "code",
      "source": [
        "var_string_s1[1:3]"
      ],
      "metadata": {
        "colab": {
          "base_uri": "https://localhost:8080/",
          "height": 35
        },
        "id": "fLyMzyr9Ix2P",
        "outputId": "2726f062-e5f0-4839-c546-55bb15d1966c"
      },
      "execution_count": 13,
      "outputs": [
        {
          "output_type": "execute_result",
          "data": {
            "text/plain": [
              "'od'"
            ],
            "application/vnd.google.colaboratory.intrinsic+json": {
              "type": "string"
            }
          },
          "metadata": {},
          "execution_count": 13
        }
      ]
    },
    {
      "cell_type": "markdown",
      "source": [
        "## Home work 2: salary incresment\n",
        "假設小明的月薪是 25000 元，每年調薪幅度為 3%，請問經過多少年小明的月薪會加倍？"
      ],
      "metadata": {
        "id": "ExSJu-eMJgkk"
      }
    },
    {
      "cell_type": "markdown",
      "source": [
        "$(1 + 0.03)^x >= 2$\n",
        "\n",
        "$log((1+0.03)^x) >= log(2)$\n",
        "\n",
        "$x \\times log(1.03) >= log(2)$\n",
        "\n",
        "$x >= log(2) \\div log(1.03)$"
      ],
      "metadata": {
        "id": "vj83-jRoJ6y_"
      }
    },
    {
      "cell_type": "code",
      "source": [
        "ceil(log(2) / log(1+0.03))"
      ],
      "metadata": {
        "colab": {
          "base_uri": "https://localhost:8080/"
        },
        "id": "RPcjq8lJJ48g",
        "outputId": "01f868c1-4cdd-4189-9c2d-7e864234e909"
      },
      "execution_count": 33,
      "outputs": [
        {
          "output_type": "execute_result",
          "data": {
            "text/plain": [
              "24"
            ]
          },
          "metadata": {},
          "execution_count": 33
        }
      ]
    }
  ]
}