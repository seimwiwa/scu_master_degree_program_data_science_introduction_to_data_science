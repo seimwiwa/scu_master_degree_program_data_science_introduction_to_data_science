{
  "nbformat": 4,
  "nbformat_minor": 0,
  "metadata": {
    "colab": {
      "provenance": [],
      "toc_visible": true,
      "authorship_tag": "ABX9TyMd8Eq+OpPjUR0neItz0zUZ",
      "include_colab_link": true
    },
    "kernelspec": {
      "name": "python3",
      "display_name": "Python 3"
    },
    "language_info": {
      "name": "python"
    }
  },
  "cells": [
    {
      "cell_type": "markdown",
      "metadata": {
        "id": "view-in-github",
        "colab_type": "text"
      },
      "source": [
        "<a href=\"https://colab.research.google.com/github/seimwiwa/scu_master_degree_program_data_science_introduction_to_data_science/blob/main/20221001_02_Python_Language.ipynb\" target=\"_parent\"><img src=\"https://colab.research.google.com/assets/colab-badge.svg\" alt=\"Open In Colab\"/></a>"
      ]
    },
    {
      "cell_type": "markdown",
      "source": [
        "# Env"
      ],
      "metadata": {
        "id": "1ZmB8mTMHj5Y"
      }
    },
    {
      "cell_type": "code",
      "source": [
        "from math import *\n",
        "import numpy as np"
      ],
      "metadata": {
        "id": "eZ_Ae4mPHmG3"
      },
      "execution_count": 73,
      "outputs": []
    },
    {
      "cell_type": "markdown",
      "source": [
        "# Deal with string"
      ],
      "metadata": {
        "id": "k9zawUFVvsXE"
      }
    },
    {
      "cell_type": "markdown",
      "source": [
        "## Contain / not-contain"
      ],
      "metadata": {
        "id": "JYG1ILHzwOS9"
      }
    },
    {
      "cell_type": "code",
      "source": [
        "\"or\" in \"FOREVER\""
      ],
      "metadata": {
        "id": "3bYwyAhlvryW",
        "outputId": "4ef7cfde-2a72-439f-b385-ab76bcbe73e0",
        "colab": {
          "base_uri": "https://localhost:8080/"
        }
      },
      "execution_count": 74,
      "outputs": [
        {
          "output_type": "execute_result",
          "data": {
            "text/plain": [
              "False"
            ]
          },
          "metadata": {},
          "execution_count": 74
        }
      ]
    },
    {
      "cell_type": "code",
      "source": [
        "\"S\" not in \"FOREVER\""
      ],
      "metadata": {
        "id": "mqZr7WLbwZOb",
        "outputId": "113f64a1-cd07-4669-e15b-ddcaff89412c",
        "colab": {
          "base_uri": "https://localhost:8080/"
        }
      },
      "execution_count": 75,
      "outputs": [
        {
          "output_type": "execute_result",
          "data": {
            "text/plain": [
              "True"
            ]
          },
          "metadata": {},
          "execution_count": 75
        }
      ]
    },
    {
      "cell_type": "markdown",
      "source": [
        "## Lower / Upper"
      ],
      "metadata": {
        "id": "xpRUk3MLwVVu"
      }
    },
    {
      "cell_type": "code",
      "source": [
        "\"FOREVER\".lower()"
      ],
      "metadata": {
        "id": "Bfo1OQPlwDCH",
        "outputId": "1c9c4f9c-9eee-480e-fba1-37776f320546",
        "colab": {
          "base_uri": "https://localhost:8080/",
          "height": 35
        }
      },
      "execution_count": 76,
      "outputs": [
        {
          "output_type": "execute_result",
          "data": {
            "text/plain": [
              "'forever'"
            ],
            "application/vnd.google.colaboratory.intrinsic+json": {
              "type": "string"
            }
          },
          "metadata": {},
          "execution_count": 76
        }
      ]
    },
    {
      "cell_type": "code",
      "source": [
        "\"FOREVER\".lower().upper()"
      ],
      "metadata": {
        "id": "r07EssVcw2vw",
        "outputId": "98f37f1e-12e7-4193-f619-1c21b805499c",
        "colab": {
          "base_uri": "https://localhost:8080/",
          "height": 35
        }
      },
      "execution_count": 77,
      "outputs": [
        {
          "output_type": "execute_result",
          "data": {
            "text/plain": [
              "'FOREVER'"
            ],
            "application/vnd.google.colaboratory.intrinsic+json": {
              "type": "string"
            }
          },
          "metadata": {},
          "execution_count": 77
        }
      ]
    },
    {
      "cell_type": "code",
      "source": [
        "\"Fooooooever\".swapcase()"
      ],
      "metadata": {
        "id": "lB4zjY5Yw6Dw",
        "outputId": "f2809bd6-847e-47d2-87ef-ab6122849e41",
        "colab": {
          "base_uri": "https://localhost:8080/",
          "height": 35
        }
      },
      "execution_count": 78,
      "outputs": [
        {
          "output_type": "execute_result",
          "data": {
            "text/plain": [
              "'fOOOOOOEVER'"
            ],
            "application/vnd.google.colaboratory.intrinsic+json": {
              "type": "string"
            }
          },
          "metadata": {},
          "execution_count": 78
        }
      ]
    },
    {
      "cell_type": "markdown",
      "source": [
        "## Count"
      ],
      "metadata": {
        "id": "SdZyiqjBwV-4"
      }
    },
    {
      "cell_type": "code",
      "source": [
        "\"FOREVER\".count(\"R\")"
      ],
      "metadata": {
        "id": "7uIpbgOTwFkW",
        "outputId": "aaa8ad42-3dd7-4c9c-9a3b-0c428d5705f2",
        "colab": {
          "base_uri": "https://localhost:8080/"
        }
      },
      "execution_count": 79,
      "outputs": [
        {
          "output_type": "execute_result",
          "data": {
            "text/plain": [
              "2"
            ]
          },
          "metadata": {},
          "execution_count": 79
        }
      ]
    },
    {
      "cell_type": "markdown",
      "source": [
        "## Position"
      ],
      "metadata": {
        "id": "5Pci8MA_webP"
      }
    },
    {
      "cell_type": "code",
      "source": [
        "\"FOREVER\"[0]"
      ],
      "metadata": {
        "id": "hnak0GwLwd3D",
        "outputId": "63a7401f-adee-4055-da5c-fcac4d86e67f",
        "colab": {
          "base_uri": "https://localhost:8080/",
          "height": 35
        }
      },
      "execution_count": 80,
      "outputs": [
        {
          "output_type": "execute_result",
          "data": {
            "text/plain": [
              "'F'"
            ],
            "application/vnd.google.colaboratory.intrinsic+json": {
              "type": "string"
            }
          },
          "metadata": {},
          "execution_count": 80
        }
      ]
    },
    {
      "cell_type": "code",
      "source": [
        "\"FOREVER\"[1]"
      ],
      "metadata": {
        "id": "gZj3v6fCwlJ-",
        "outputId": "ef415ade-22dc-4cc5-c51a-c41dd50ceae9",
        "colab": {
          "base_uri": "https://localhost:8080/",
          "height": 35
        }
      },
      "execution_count": 81,
      "outputs": [
        {
          "output_type": "execute_result",
          "data": {
            "text/plain": [
              "'O'"
            ],
            "application/vnd.google.colaboratory.intrinsic+json": {
              "type": "string"
            }
          },
          "metadata": {},
          "execution_count": 81
        }
      ]
    },
    {
      "cell_type": "code",
      "source": [
        "\"FOREVER\"[0:1]"
      ],
      "metadata": {
        "id": "zdl2qrYXwhpf",
        "outputId": "5ed998fa-4835-49ac-dd29-51ed00a6c7d8",
        "colab": {
          "base_uri": "https://localhost:8080/",
          "height": 35
        }
      },
      "execution_count": 82,
      "outputs": [
        {
          "output_type": "execute_result",
          "data": {
            "text/plain": [
              "'F'"
            ],
            "application/vnd.google.colaboratory.intrinsic+json": {
              "type": "string"
            }
          },
          "metadata": {},
          "execution_count": 82
        }
      ]
    },
    {
      "cell_type": "code",
      "source": [
        "\"FOREVER\"[0:-1]"
      ],
      "metadata": {
        "id": "KJU9aqSdwnNP",
        "outputId": "7419bfbf-070b-4e43-aa9e-1022b01de9f9",
        "colab": {
          "base_uri": "https://localhost:8080/",
          "height": 35
        }
      },
      "execution_count": 83,
      "outputs": [
        {
          "output_type": "execute_result",
          "data": {
            "text/plain": [
              "'FOREVE'"
            ],
            "application/vnd.google.colaboratory.intrinsic+json": {
              "type": "string"
            }
          },
          "metadata": {},
          "execution_count": 83
        }
      ]
    },
    {
      "cell_type": "code",
      "source": [
        "\"FOREVER\"[0:2]"
      ],
      "metadata": {
        "id": "F_xfki8Fwohn",
        "outputId": "dbb465cd-05ea-40bb-b57d-1cd3b47fd2d3",
        "colab": {
          "base_uri": "https://localhost:8080/",
          "height": 35
        }
      },
      "execution_count": 84,
      "outputs": [
        {
          "output_type": "execute_result",
          "data": {
            "text/plain": [
              "'FO'"
            ],
            "application/vnd.google.colaboratory.intrinsic+json": {
              "type": "string"
            }
          },
          "metadata": {},
          "execution_count": 84
        }
      ]
    },
    {
      "cell_type": "code",
      "source": [
        "\"FOREVER\"[-1]"
      ],
      "metadata": {
        "id": "9hV_75-Gwq1A",
        "outputId": "c2482eb4-9e64-4768-d375-1926ec8f5b50",
        "colab": {
          "base_uri": "https://localhost:8080/",
          "height": 35
        }
      },
      "execution_count": 85,
      "outputs": [
        {
          "output_type": "execute_result",
          "data": {
            "text/plain": [
              "'R'"
            ],
            "application/vnd.google.colaboratory.intrinsic+json": {
              "type": "string"
            }
          },
          "metadata": {},
          "execution_count": 85
        }
      ]
    },
    {
      "cell_type": "code",
      "source": [
        "\"FOREVER\"[-3:-1]"
      ],
      "metadata": {
        "id": "y9CHJyiZwtPd",
        "outputId": "425841e1-7e94-42b3-878f-66e4201d724c",
        "colab": {
          "base_uri": "https://localhost:8080/",
          "height": 35
        }
      },
      "execution_count": 86,
      "outputs": [
        {
          "output_type": "execute_result",
          "data": {
            "text/plain": [
              "'VE'"
            ],
            "application/vnd.google.colaboratory.intrinsic+json": {
              "type": "string"
            }
          },
          "metadata": {},
          "execution_count": 86
        }
      ]
    },
    {
      "cell_type": "markdown",
      "source": [
        "## Title"
      ],
      "metadata": {
        "id": "blMJGoXFxYf7"
      }
    },
    {
      "cell_type": "code",
      "source": [
        "\"for for for\".title()"
      ],
      "metadata": {
        "id": "L1TRKm4MxXPu",
        "outputId": "fa1c0637-bfb5-4f47-909d-34b07e0d85a6",
        "colab": {
          "base_uri": "https://localhost:8080/",
          "height": 35
        }
      },
      "execution_count": 87,
      "outputs": [
        {
          "output_type": "execute_result",
          "data": {
            "text/plain": [
              "'For For For'"
            ],
            "application/vnd.google.colaboratory.intrinsic+json": {
              "type": "string"
            }
          },
          "metadata": {},
          "execution_count": 87
        }
      ]
    },
    {
      "cell_type": "markdown",
      "source": [
        "## Replace"
      ],
      "metadata": {
        "id": "bxQBEZZdxZ5x"
      }
    },
    {
      "cell_type": "code",
      "source": [
        "\"forever\".replace(\"ever\", \"never\")"
      ],
      "metadata": {
        "id": "GGg3lKbRxX5p",
        "outputId": "63939aef-d29e-4433-b8ab-7e46bdeca1b8",
        "colab": {
          "base_uri": "https://localhost:8080/",
          "height": 35
        }
      },
      "execution_count": 88,
      "outputs": [
        {
          "output_type": "execute_result",
          "data": {
            "text/plain": [
              "'fornever'"
            ],
            "application/vnd.google.colaboratory.intrinsic+json": {
              "type": "string"
            }
          },
          "metadata": {},
          "execution_count": 88
        }
      ]
    },
    {
      "cell_type": "markdown",
      "source": [
        "## Remove space"
      ],
      "metadata": {
        "id": "QGDTRztwxj42"
      }
    },
    {
      "cell_type": "code",
      "source": [
        "\"forever\".replace(\"ever\", \"never\")"
      ],
      "metadata": {
        "id": "ufyQCsvDxiMf",
        "outputId": "63877139-8241-4178-bda7-ae6ac83314d9",
        "colab": {
          "base_uri": "https://localhost:8080/",
          "height": 35
        }
      },
      "execution_count": 89,
      "outputs": [
        {
          "output_type": "execute_result",
          "data": {
            "text/plain": [
              "'fornever'"
            ],
            "application/vnd.google.colaboratory.intrinsic+json": {
              "type": "string"
            }
          },
          "metadata": {},
          "execution_count": 89
        }
      ]
    },
    {
      "cell_type": "markdown",
      "source": [
        "## If else"
      ],
      "metadata": {
        "id": "kAP0431_19w_"
      }
    },
    {
      "cell_type": "code",
      "source": [
        "def identify_user_grage():\n",
        "  \"\"\"\n",
        "  ask for grade input and decide pass or fail\n",
        "  \"\"\"\n",
        "\n",
        "  var_grade = eval(input(\"Grade:\"))\n",
        "\n",
        "  if (var_grade < 0 or var_grade > 100): \n",
        "    print(\"Grad cannot lower than 0 or higher then 100\")\n",
        "\n",
        "  elif (var_grade >= 60):\n",
        "    print(\"Pass\")\n",
        "\n",
        "  else: \n",
        "    print(\"Fail\")"
      ],
      "metadata": {
        "id": "WAC9GRrp19SU"
      },
      "execution_count": 90,
      "outputs": []
    },
    {
      "cell_type": "code",
      "source": [
        "identify_user_grage()"
      ],
      "metadata": {
        "id": "gF7iY0VH2gpE",
        "outputId": "b862e9e2-88e5-4174-cb06-f2152a3c6210",
        "colab": {
          "base_uri": "https://localhost:8080/"
        }
      },
      "execution_count": 91,
      "outputs": [
        {
          "output_type": "stream",
          "name": "stdout",
          "text": [
            "Grade:22\n",
            "Fail\n"
          ]
        }
      ]
    },
    {
      "cell_type": "code",
      "source": [
        "np.where(eval(input(\"Grade:\"))>=60, \"Pass\", \"Fail\")"
      ],
      "metadata": {
        "id": "h2Os-epe2nbL",
        "outputId": "9253dc35-5d7b-4c7a-ebd4-0ab26224f18e",
        "colab": {
          "base_uri": "https://localhost:8080/"
        }
      },
      "execution_count": 92,
      "outputs": [
        {
          "name": "stdout",
          "output_type": "stream",
          "text": [
            "Grade:44\n"
          ]
        },
        {
          "output_type": "execute_result",
          "data": {
            "text/plain": [
              "array('Fail', dtype='<U4')"
            ]
          },
          "metadata": {},
          "execution_count": 92
        }
      ]
    },
    {
      "cell_type": "markdown",
      "source": [
        "# Home work"
      ],
      "metadata": {
        "id": "quyJRVUmHlee"
      }
    },
    {
      "cell_type": "markdown",
      "source": [
        "## Home work 1: dela with String\n",
        "假設字串變數 s1 = “Today is Friday”。\n",
        "1. s1 是否包含 ”day”?\n",
        "2. ”day” 出現次數\n",
        "3. ”day” 出現最小索引\n",
        "4. ”day” 出現最大索引\n",
        "5. s1 的第 2 ~ 4 個字元 **粗體文字**"
      ],
      "metadata": {
        "id": "E4K2xeBlHv8e"
      }
    },
    {
      "cell_type": "code",
      "execution_count": 93,
      "metadata": {
        "id": "N58uCL0OHeky"
      },
      "outputs": [],
      "source": [
        "var_string_s1 = \"Today is Friday\"\n",
        "var_string_target = \"day\""
      ]
    },
    {
      "cell_type": "markdown",
      "source": [
        "### s1 是否包含 ”day”?"
      ],
      "metadata": {
        "id": "ngdfDLwDInLq"
      }
    },
    {
      "cell_type": "code",
      "source": [
        "var_string_target in var_string_s1"
      ],
      "metadata": {
        "colab": {
          "base_uri": "https://localhost:8080/"
        },
        "id": "wLVPY9BvH0hi",
        "outputId": "d11aaff8-8609-4135-8356-47ae4242f495"
      },
      "execution_count": 94,
      "outputs": [
        {
          "output_type": "execute_result",
          "data": {
            "text/plain": [
              "True"
            ]
          },
          "metadata": {},
          "execution_count": 94
        }
      ]
    },
    {
      "cell_type": "markdown",
      "source": [
        "### ”day” 出現次數\n"
      ],
      "metadata": {
        "id": "5cmmVtCGIomV"
      }
    },
    {
      "cell_type": "code",
      "source": [
        "var_string_s1.count(var_string_target)"
      ],
      "metadata": {
        "colab": {
          "base_uri": "https://localhost:8080/"
        },
        "id": "dmvlFnPgIeM9",
        "outputId": "be27f4bf-ea8a-4ca2-eaf1-e36674ca9c51"
      },
      "execution_count": 95,
      "outputs": [
        {
          "output_type": "execute_result",
          "data": {
            "text/plain": [
              "2"
            ]
          },
          "metadata": {},
          "execution_count": 95
        }
      ]
    },
    {
      "cell_type": "markdown",
      "source": [
        "### ”day” 出現最小索引"
      ],
      "metadata": {
        "id": "fJU3U3t0IsUE"
      }
    },
    {
      "cell_type": "code",
      "source": [
        "var_string_s1.find(var_string_target)"
      ],
      "metadata": {
        "colab": {
          "base_uri": "https://localhost:8080/"
        },
        "id": "uzXk1HUgIzFZ",
        "outputId": "f14ceab2-ef82-4bd8-b3c8-1cb24152918d"
      },
      "execution_count": 96,
      "outputs": [
        {
          "output_type": "execute_result",
          "data": {
            "text/plain": [
              "2"
            ]
          },
          "metadata": {},
          "execution_count": 96
        }
      ]
    },
    {
      "cell_type": "markdown",
      "source": [
        "### ”day” 出現最大索引"
      ],
      "metadata": {
        "id": "n3w7X2JTIsLM"
      }
    },
    {
      "cell_type": "code",
      "source": [
        "var_string_s1.rfind(var_string_target)"
      ],
      "metadata": {
        "colab": {
          "base_uri": "https://localhost:8080/"
        },
        "id": "kY3DECruIyhO",
        "outputId": "10497139-0596-4ea0-d120-59fcffc25d70"
      },
      "execution_count": 97,
      "outputs": [
        {
          "output_type": "execute_result",
          "data": {
            "text/plain": [
              "12"
            ]
          },
          "metadata": {},
          "execution_count": 97
        }
      ]
    },
    {
      "cell_type": "markdown",
      "source": [
        "### s1 的第 2 ~ 4 個字元"
      ],
      "metadata": {
        "id": "Ip48QLtBIr3c"
      }
    },
    {
      "cell_type": "code",
      "source": [
        "var_string_s1[2:5]"
      ],
      "metadata": {
        "colab": {
          "base_uri": "https://localhost:8080/",
          "height": 35
        },
        "id": "fLyMzyr9Ix2P",
        "outputId": "f54a99a4-44a3-42d3-a666-a2f9db39dbae"
      },
      "execution_count": 98,
      "outputs": [
        {
          "output_type": "execute_result",
          "data": {
            "text/plain": [
              "'day'"
            ],
            "application/vnd.google.colaboratory.intrinsic+json": {
              "type": "string"
            }
          },
          "metadata": {},
          "execution_count": 98
        }
      ]
    },
    {
      "cell_type": "markdown",
      "source": [
        "## Home work 2: salary incresment\n",
        "假設小明的月薪是 25000 元，每年調薪幅度為 3%，請問經過多少年小明的月薪會加倍？"
      ],
      "metadata": {
        "id": "ExSJu-eMJgkk"
      }
    },
    {
      "cell_type": "markdown",
      "source": [
        "$(1 + 0.03)^x >= 2$\n",
        "\n",
        "$log((1+0.03)^x) >= log(2)$\n",
        "\n",
        "$x \\times log(1.03) >= log(2)$\n",
        "\n",
        "$x >= log(2) \\div log(1.03)$"
      ],
      "metadata": {
        "id": "vj83-jRoJ6y_"
      }
    },
    {
      "cell_type": "code",
      "source": [
        "ceil(log(2) / log(1+0.03))"
      ],
      "metadata": {
        "colab": {
          "base_uri": "https://localhost:8080/"
        },
        "id": "RPcjq8lJJ48g",
        "outputId": "d1b13b05-790a-43b8-e644-b4723b08adbb"
      },
      "execution_count": 99,
      "outputs": [
        {
          "output_type": "execute_result",
          "data": {
            "text/plain": [
              "24"
            ]
          },
          "metadata": {},
          "execution_count": 99
        }
      ]
    },
    {
      "cell_type": "code",
      "source": [
        "var_salary_original = 25000\n",
        "var_salary_current = 25000\n",
        "var_salary_increase_rate = 1 + 0.03\n",
        "var_months = 1\n",
        "\n",
        "while var_salary_current / var_salary_original <= 2:\n",
        "  var_months = var_months + 1\n",
        "  var_salary_current = var_salary_original * ((var_salary_increase_rate)**var_months)\n",
        "\n",
        "print(var_months)"
      ],
      "metadata": {
        "id": "h2qR-nL4ySWU",
        "outputId": "1ee839de-6a58-4b89-8f1a-3496b16e594f",
        "colab": {
          "base_uri": "https://localhost:8080/"
        }
      },
      "execution_count": 100,
      "outputs": [
        {
          "output_type": "stream",
          "name": "stdout",
          "text": [
            "24\n"
          ]
        }
      ]
    }
  ]
}