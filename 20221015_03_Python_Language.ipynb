{
  "nbformat": 4,
  "nbformat_minor": 0,
  "metadata": {
    "colab": {
      "provenance": [],
      "toc_visible": true,
      "authorship_tag": "ABX9TyNAqObcgt/yYWJg2gzDFJzj",
      "include_colab_link": true
    },
    "kernelspec": {
      "name": "python3",
      "display_name": "Python 3"
    },
    "language_info": {
      "name": "python"
    }
  },
  "cells": [
    {
      "cell_type": "markdown",
      "metadata": {
        "id": "view-in-github",
        "colab_type": "text"
      },
      "source": [
        "<a href=\"https://colab.research.google.com/github/seimwiwa/scu_master_degree_program_data_science_introduction_to_data_science/blob/main/20221015_03_Python_Language.ipynb\" target=\"_parent\"><img src=\"https://colab.research.google.com/assets/colab-badge.svg\" alt=\"Open In Colab\"/></a>"
      ]
    },
    {
      "cell_type": "markdown",
      "source": [
        "# Env"
      ],
      "metadata": {
        "id": "QQuXGOg7mNO7"
      }
    },
    {
      "cell_type": "markdown",
      "source": [
        "# Fro loop"
      ],
      "metadata": {
        "id": "VbXR8Lkrqfzz"
      }
    },
    {
      "cell_type": "markdown",
      "source": [
        "## 9 * 9"
      ],
      "metadata": {
        "id": "RTjr2kvoqwX5"
      }
    },
    {
      "cell_type": "code",
      "source": [
        "for i in range(1, 10, 1):\n",
        "  for j in range(1, 10, 1):\n",
        "    print(str(i) + \" X \" + str(i) + \" = \" + str(i * j))"
      ],
      "metadata": {
        "colab": {
          "base_uri": "https://localhost:8080/"
        },
        "id": "qDA1yuIBqvx4",
        "outputId": "2909b4d4-e808-4bb2-81a9-51c317364814"
      },
      "execution_count": null,
      "outputs": [
        {
          "output_type": "stream",
          "name": "stdout",
          "text": [
            "1 X 1 = 1\n",
            "1 X 1 = 2\n",
            "1 X 1 = 3\n",
            "1 X 1 = 4\n",
            "1 X 1 = 5\n",
            "1 X 1 = 6\n",
            "1 X 1 = 7\n",
            "1 X 1 = 8\n",
            "1 X 1 = 9\n",
            "2 X 2 = 2\n",
            "2 X 2 = 4\n",
            "2 X 2 = 6\n",
            "2 X 2 = 8\n",
            "2 X 2 = 10\n",
            "2 X 2 = 12\n",
            "2 X 2 = 14\n",
            "2 X 2 = 16\n",
            "2 X 2 = 18\n",
            "3 X 3 = 3\n",
            "3 X 3 = 6\n",
            "3 X 3 = 9\n",
            "3 X 3 = 12\n",
            "3 X 3 = 15\n",
            "3 X 3 = 18\n",
            "3 X 3 = 21\n",
            "3 X 3 = 24\n",
            "3 X 3 = 27\n",
            "4 X 4 = 4\n",
            "4 X 4 = 8\n",
            "4 X 4 = 12\n",
            "4 X 4 = 16\n",
            "4 X 4 = 20\n",
            "4 X 4 = 24\n",
            "4 X 4 = 28\n",
            "4 X 4 = 32\n",
            "4 X 4 = 36\n",
            "5 X 5 = 5\n",
            "5 X 5 = 10\n",
            "5 X 5 = 15\n",
            "5 X 5 = 20\n",
            "5 X 5 = 25\n",
            "5 X 5 = 30\n",
            "5 X 5 = 35\n",
            "5 X 5 = 40\n",
            "5 X 5 = 45\n",
            "6 X 6 = 6\n",
            "6 X 6 = 12\n",
            "6 X 6 = 18\n",
            "6 X 6 = 24\n",
            "6 X 6 = 30\n",
            "6 X 6 = 36\n",
            "6 X 6 = 42\n",
            "6 X 6 = 48\n",
            "6 X 6 = 54\n",
            "7 X 7 = 7\n",
            "7 X 7 = 14\n",
            "7 X 7 = 21\n",
            "7 X 7 = 28\n",
            "7 X 7 = 35\n",
            "7 X 7 = 42\n",
            "7 X 7 = 49\n",
            "7 X 7 = 56\n",
            "7 X 7 = 63\n",
            "8 X 8 = 8\n",
            "8 X 8 = 16\n",
            "8 X 8 = 24\n",
            "8 X 8 = 32\n",
            "8 X 8 = 40\n",
            "8 X 8 = 48\n",
            "8 X 8 = 56\n",
            "8 X 8 = 64\n",
            "8 X 8 = 72\n",
            "9 X 9 = 9\n",
            "9 X 9 = 18\n",
            "9 X 9 = 27\n",
            "9 X 9 = 36\n",
            "9 X 9 = 45\n",
            "9 X 9 = 54\n",
            "9 X 9 = 63\n",
            "9 X 9 = 72\n",
            "9 X 9 = 81\n"
          ]
        }
      ]
    },
    {
      "cell_type": "markdown",
      "source": [
        "## what if wee need add by 2"
      ],
      "metadata": {
        "id": "wVYR3ohirtnO"
      }
    },
    {
      "cell_type": "code",
      "source": [
        "for i in range(1, 10, 2): print(i)"
      ],
      "metadata": {
        "colab": {
          "base_uri": "https://localhost:8080/"
        },
        "id": "16M9AwAgriXP",
        "outputId": "8e89d092-e786-4dd9-8868-741c4446896e"
      },
      "execution_count": null,
      "outputs": [
        {
          "output_type": "stream",
          "name": "stdout",
          "text": [
            "1\n",
            "3\n",
            "5\n",
            "7\n",
            "9\n"
          ]
        }
      ]
    },
    {
      "cell_type": "markdown",
      "source": [
        "## what if wee need add by 4 and never meet the stop arug"
      ],
      "metadata": {
        "id": "WKxvCT55r31k"
      }
    },
    {
      "cell_type": "code",
      "source": [
        "for i in range(1, 10, 4): print(i)"
      ],
      "metadata": {
        "colab": {
          "base_uri": "https://localhost:8080/"
        },
        "id": "I3h0Mg9Yrn67",
        "outputId": "627982d9-03c0-477e-c166-c70434928269"
      },
      "execution_count": null,
      "outputs": [
        {
          "output_type": "stream",
          "name": "stdout",
          "text": [
            "1\n",
            "5\n",
            "9\n"
          ]
        }
      ]
    },
    {
      "cell_type": "markdown",
      "source": [
        "## what if wee need add by negetive value"
      ],
      "metadata": {
        "id": "9quZObscr_bz"
      }
    },
    {
      "cell_type": "code",
      "source": [
        "for i in range(1, 10, -1): print(i)"
      ],
      "metadata": {
        "id": "9pWGE0e1rpOQ"
      },
      "execution_count": null,
      "outputs": []
    },
    {
      "cell_type": "markdown",
      "source": [
        "# While loop"
      ],
      "metadata": {
        "id": "2nhGSqgDtDun"
      }
    },
    {
      "cell_type": "markdown",
      "source": [
        "## Add from 1 to 6 with while"
      ],
      "metadata": {
        "id": "1cksvN_5tG4w"
      }
    },
    {
      "cell_type": "code",
      "source": [
        "var_sum = 0\n",
        "var_num = 1\n",
        "while var_num <= 6:\n",
        "  var_sum = var_sum + var_num\n",
        "  var_num += 1\n",
        "print(var_sum)"
      ],
      "metadata": {
        "colab": {
          "base_uri": "https://localhost:8080/"
        },
        "id": "SRpIq02VtEUB",
        "outputId": "90a0cb2b-7c76-4cc3-81b1-4e76527bf811"
      },
      "execution_count": null,
      "outputs": [
        {
          "output_type": "stream",
          "name": "stdout",
          "text": [
            "21\n"
          ]
        }
      ]
    },
    {
      "cell_type": "markdown",
      "source": [
        "# Break and continue"
      ],
      "metadata": {
        "id": "L0r6IH41u3y3"
      }
    },
    {
      "cell_type": "markdown",
      "source": [
        "## Break"
      ],
      "metadata": {
        "id": "xAqLJysPvc3l"
      }
    },
    {
      "cell_type": "code",
      "source": [
        "var_sum = 0\n",
        "\n",
        "for i in range(1, 10):\n",
        "\n",
        "  print(i)\n",
        "\n",
        "  if i%2 == 0: break\n",
        "\n",
        "  var_sum = var_sum + i\n",
        "\n",
        "print(\"sum:\" + str(var_sum))"
      ],
      "metadata": {
        "colab": {
          "base_uri": "https://localhost:8080/"
        },
        "id": "Qllb59wVu3c-",
        "outputId": "6a4f2a31-8b82-4224-f7ff-6190fa035877"
      },
      "execution_count": null,
      "outputs": [
        {
          "output_type": "stream",
          "name": "stdout",
          "text": [
            "1\n",
            "2\n",
            "sum:1\n"
          ]
        }
      ]
    },
    {
      "cell_type": "markdown",
      "source": [
        "## Continue"
      ],
      "metadata": {
        "id": "IBYCkMYRveQv"
      }
    },
    {
      "cell_type": "code",
      "source": [
        "var_sum = 0\n",
        "\n",
        "for i in range(10):\n",
        "\n",
        "  print(i)\n",
        "\n",
        "  if i%2 == 0: continue\n",
        "\n",
        "  var_sum = var_sum + i\n",
        "\n",
        "print(\"sum:\" + str(var_sum))"
      ],
      "metadata": {
        "colab": {
          "base_uri": "https://localhost:8080/"
        },
        "id": "DxWgWTQPvNeB",
        "outputId": "6c8558db-2166-4597-b638-056a46e4678b"
      },
      "execution_count": null,
      "outputs": [
        {
          "output_type": "stream",
          "name": "stdout",
          "text": [
            "0\n",
            "1\n",
            "2\n",
            "3\n",
            "4\n",
            "5\n",
            "6\n",
            "7\n",
            "8\n",
            "9\n",
            "sum:25\n"
          ]
        }
      ]
    }
  ]
}