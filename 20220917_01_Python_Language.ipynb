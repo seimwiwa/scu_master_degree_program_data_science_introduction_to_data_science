{
  "nbformat": 4,
  "nbformat_minor": 0,
  "metadata": {
    "colab": {
      "provenance": [],
      "collapsed_sections": [],
      "toc_visible": true,
      "include_colab_link": true
    },
    "kernelspec": {
      "name": "python3",
      "display_name": "Python 3"
    },
    "language_info": {
      "name": "python"
    }
  },
  "cells": [
    {
      "cell_type": "markdown",
      "metadata": {
        "id": "view-in-github",
        "colab_type": "text"
      },
      "source": [
        "<a href=\"https://colab.research.google.com/github/seimwiwa/scu_master_degree_program_data_science_introduction_to_data_science/blob/main/20220917_01_Python_Language.ipynb\" target=\"_parent\"><img src=\"https://colab.research.google.com/assets/colab-badge.svg\" alt=\"Open In Colab\"/></a>"
      ]
    },
    {
      "cell_type": "markdown",
      "source": [
        "# Env."
      ],
      "metadata": {
        "id": "QCIlO_WyJj9v"
      }
    },
    {
      "cell_type": "code",
      "source": [
        "import math\n",
        "import numpy as np\n",
        "import pandas as pd\n",
        "import plotly.express as px"
      ],
      "metadata": {
        "id": "Mfq_eWZqJncH"
      },
      "execution_count": null,
      "outputs": []
    },
    {
      "cell_type": "code",
      "source": [
        "var_colour = [\"#FFFFFF\", \"#C5C6D0\", \"#468966\", \"#FFF0A5\", \"#FFB03B\", \"#B64926\", \"#8E2800\"]"
      ],
      "metadata": {
        "id": "0L8qUpJnl_lA"
      },
      "execution_count": null,
      "outputs": []
    },
    {
      "cell_type": "markdown",
      "source": [
        "# Chapter 01"
      ],
      "metadata": {
        "id": "QvVrWuOIHKbE"
      }
    },
    {
      "cell_type": "markdown",
      "source": [
        "## Plot y = x^2"
      ],
      "metadata": {
        "id": "W3mHPhy4iS9j"
      }
    },
    {
      "cell_type": "code",
      "source": [
        "data_line = pd.\\\n",
        "  DataFrame().\\\n",
        "  assign(x = np.arange(0, 10, 0.1),\n",
        "         y = lambda x: np.square(x))"
      ],
      "metadata": {
        "id": "1TRiqGg1iY25"
      },
      "execution_count": null,
      "outputs": []
    },
    {
      "cell_type": "code",
      "source": [
        "var_colour[1]"
      ],
      "metadata": {
        "colab": {
          "base_uri": "https://localhost:8080/",
          "height": 35
        },
        "id": "FfD5nH7snYFo",
        "outputId": "88128ec7-e814-40b8-f17d-a3784618a983"
      },
      "execution_count": null,
      "outputs": [
        {
          "output_type": "execute_result",
          "data": {
            "text/plain": [
              "'#C5C6D0'"
            ],
            "application/vnd.google.colaboratory.intrinsic+json": {
              "type": "string"
            }
          },
          "metadata": {},
          "execution_count": 4
        }
      ]
    },
    {
      "cell_type": "code",
      "source": [
        "px.\\\n",
        "line(data_line, x = \"x\", y = \"y\").\\\n",
        "  update_layout(title = \"Plot x from 0 to 10 and y as x^2\",\n",
        "                xaxis_title = \"x\",\n",
        "                yaxis_title = \"y: x^2\",\n",
        "                height = 400, width = 800,\n",
        "                paper_bgcolor = var_colour[0],\n",
        "                plot_bgcolor = var_colour[0],\n",
        "                bargroupgap = 0.2,\n",
        "                hovermode = \"x unified\").\\\n",
        "  update_traces(line_color = var_colour[2], line_width = 2).\\\n",
        "  update_xaxes(showgrid = True, gridwidth = 1, gridcolor = var_colour[1]).\\\n",
        "  update_yaxes(showgrid = True, gridwidth = 1, gridcolor = var_colour[1])"
      ],
      "metadata": {
        "colab": {
          "base_uri": "https://localhost:8080/",
          "height": 417
        },
        "id": "Yp0-PJ3FjM07",
        "outputId": "437b2e1c-2db9-43a3-af1c-8e4e6896c5f0"
      },
      "execution_count": null,
      "outputs": [
        {
          "output_type": "display_data",
          "data": {
            "text/html": [
              "<html>\n",
              "<head><meta charset=\"utf-8\" /></head>\n",
              "<body>\n",
              "    <div>            <script src=\"https://cdnjs.cloudflare.com/ajax/libs/mathjax/2.7.5/MathJax.js?config=TeX-AMS-MML_SVG\"></script><script type=\"text/javascript\">if (window.MathJax) {MathJax.Hub.Config({SVG: {font: \"STIX-Web\"}});}</script>                <script type=\"text/javascript\">window.PlotlyConfig = {MathJaxConfig: 'local'};</script>\n",
              "        <script src=\"https://cdn.plot.ly/plotly-2.8.3.min.js\"></script>                <div id=\"c5f2e8b5-22f5-43e3-a310-f67d458643e1\" class=\"plotly-graph-div\" style=\"height:400px; width:800px;\"></div>            <script type=\"text/javascript\">                                    window.PLOTLYENV=window.PLOTLYENV || {};                                    if (document.getElementById(\"c5f2e8b5-22f5-43e3-a310-f67d458643e1\")) {                    Plotly.newPlot(                        \"c5f2e8b5-22f5-43e3-a310-f67d458643e1\",                        [{\"hovertemplate\":\"x=%{x}<br>y=%{y}<extra></extra>\",\"legendgroup\":\"\",\"line\":{\"color\":\"#468966\",\"dash\":\"solid\",\"width\":2},\"marker\":{\"symbol\":\"circle\"},\"mode\":\"lines\",\"name\":\"\",\"orientation\":\"v\",\"showlegend\":false,\"x\":[0.0,0.1,0.2,0.30000000000000004,0.4,0.5,0.6000000000000001,0.7000000000000001,0.8,0.9,1.0,1.1,1.2000000000000002,1.3,1.4000000000000001,1.5,1.6,1.7000000000000002,1.8,1.9000000000000001,2.0,2.1,2.2,2.3000000000000003,2.4000000000000004,2.5,2.6,2.7,2.8000000000000003,2.9000000000000004,3.0,3.1,3.2,3.3000000000000003,3.4000000000000004,3.5,3.6,3.7,3.8000000000000003,3.9000000000000004,4.0,4.1000000000000005,4.2,4.3,4.4,4.5,4.6000000000000005,4.7,4.800000000000001,4.9,5.0,5.1000000000000005,5.2,5.300000000000001,5.4,5.5,5.6000000000000005,5.7,5.800000000000001,5.9,6.0,6.1000000000000005,6.2,6.300000000000001,6.4,6.5,6.6000000000000005,6.7,6.800000000000001,6.9,7.0,7.1000000000000005,7.2,7.300000000000001,7.4,7.5,7.6000000000000005,7.7,7.800000000000001,7.9,8.0,8.1,8.200000000000001,8.3,8.4,8.5,8.6,8.700000000000001,8.8,8.9,9.0,9.1,9.200000000000001,9.3,9.4,9.5,9.600000000000001,9.700000000000001,9.8,9.9],\"xaxis\":\"x\",\"y\":[0.0,0.010000000000000002,0.04000000000000001,0.09000000000000002,0.16000000000000003,0.25,0.3600000000000001,0.4900000000000001,0.6400000000000001,0.81,1.0,1.2100000000000002,1.4400000000000004,1.6900000000000002,1.9600000000000004,2.25,2.5600000000000005,2.8900000000000006,3.24,3.6100000000000003,4.0,4.41,4.840000000000001,5.290000000000001,5.760000000000002,6.25,6.760000000000001,7.290000000000001,7.840000000000002,8.410000000000002,9.0,9.610000000000001,10.240000000000002,10.890000000000002,11.560000000000002,12.25,12.96,13.690000000000001,14.440000000000001,15.210000000000003,16.0,16.810000000000006,17.64,18.49,19.360000000000003,20.25,21.160000000000004,22.090000000000003,23.040000000000006,24.010000000000005,25.0,26.010000000000005,27.040000000000003,28.090000000000007,29.160000000000004,30.25,31.360000000000007,32.49,33.64000000000001,34.81,36.0,37.21000000000001,38.440000000000005,39.69000000000001,40.96000000000001,42.25,43.56000000000001,44.89,46.24000000000001,47.61000000000001,49.0,50.41000000000001,51.84,53.29000000000001,54.760000000000005,56.25,57.760000000000005,59.290000000000006,60.84000000000001,62.410000000000004,64.0,65.61,67.24000000000002,68.89000000000001,70.56,72.25,73.96,75.69000000000001,77.44000000000001,79.21000000000001,81.0,82.80999999999999,84.64000000000001,86.49000000000001,88.36000000000001,90.25,92.16000000000003,94.09000000000002,96.04000000000002,98.01],\"yaxis\":\"y\",\"type\":\"scatter\"}],                        {\"template\":{\"data\":{\"bar\":[{\"error_x\":{\"color\":\"#2a3f5f\"},\"error_y\":{\"color\":\"#2a3f5f\"},\"marker\":{\"line\":{\"color\":\"#E5ECF6\",\"width\":0.5},\"pattern\":{\"fillmode\":\"overlay\",\"size\":10,\"solidity\":0.2}},\"type\":\"bar\"}],\"barpolar\":[{\"marker\":{\"line\":{\"color\":\"#E5ECF6\",\"width\":0.5},\"pattern\":{\"fillmode\":\"overlay\",\"size\":10,\"solidity\":0.2}},\"type\":\"barpolar\"}],\"carpet\":[{\"aaxis\":{\"endlinecolor\":\"#2a3f5f\",\"gridcolor\":\"white\",\"linecolor\":\"white\",\"minorgridcolor\":\"white\",\"startlinecolor\":\"#2a3f5f\"},\"baxis\":{\"endlinecolor\":\"#2a3f5f\",\"gridcolor\":\"white\",\"linecolor\":\"white\",\"minorgridcolor\":\"white\",\"startlinecolor\":\"#2a3f5f\"},\"type\":\"carpet\"}],\"choropleth\":[{\"colorbar\":{\"outlinewidth\":0,\"ticks\":\"\"},\"type\":\"choropleth\"}],\"contour\":[{\"colorbar\":{\"outlinewidth\":0,\"ticks\":\"\"},\"colorscale\":[[0.0,\"#0d0887\"],[0.1111111111111111,\"#46039f\"],[0.2222222222222222,\"#7201a8\"],[0.3333333333333333,\"#9c179e\"],[0.4444444444444444,\"#bd3786\"],[0.5555555555555556,\"#d8576b\"],[0.6666666666666666,\"#ed7953\"],[0.7777777777777778,\"#fb9f3a\"],[0.8888888888888888,\"#fdca26\"],[1.0,\"#f0f921\"]],\"type\":\"contour\"}],\"contourcarpet\":[{\"colorbar\":{\"outlinewidth\":0,\"ticks\":\"\"},\"type\":\"contourcarpet\"}],\"heatmap\":[{\"colorbar\":{\"outlinewidth\":0,\"ticks\":\"\"},\"colorscale\":[[0.0,\"#0d0887\"],[0.1111111111111111,\"#46039f\"],[0.2222222222222222,\"#7201a8\"],[0.3333333333333333,\"#9c179e\"],[0.4444444444444444,\"#bd3786\"],[0.5555555555555556,\"#d8576b\"],[0.6666666666666666,\"#ed7953\"],[0.7777777777777778,\"#fb9f3a\"],[0.8888888888888888,\"#fdca26\"],[1.0,\"#f0f921\"]],\"type\":\"heatmap\"}],\"heatmapgl\":[{\"colorbar\":{\"outlinewidth\":0,\"ticks\":\"\"},\"colorscale\":[[0.0,\"#0d0887\"],[0.1111111111111111,\"#46039f\"],[0.2222222222222222,\"#7201a8\"],[0.3333333333333333,\"#9c179e\"],[0.4444444444444444,\"#bd3786\"],[0.5555555555555556,\"#d8576b\"],[0.6666666666666666,\"#ed7953\"],[0.7777777777777778,\"#fb9f3a\"],[0.8888888888888888,\"#fdca26\"],[1.0,\"#f0f921\"]],\"type\":\"heatmapgl\"}],\"histogram\":[{\"marker\":{\"pattern\":{\"fillmode\":\"overlay\",\"size\":10,\"solidity\":0.2}},\"type\":\"histogram\"}],\"histogram2d\":[{\"colorbar\":{\"outlinewidth\":0,\"ticks\":\"\"},\"colorscale\":[[0.0,\"#0d0887\"],[0.1111111111111111,\"#46039f\"],[0.2222222222222222,\"#7201a8\"],[0.3333333333333333,\"#9c179e\"],[0.4444444444444444,\"#bd3786\"],[0.5555555555555556,\"#d8576b\"],[0.6666666666666666,\"#ed7953\"],[0.7777777777777778,\"#fb9f3a\"],[0.8888888888888888,\"#fdca26\"],[1.0,\"#f0f921\"]],\"type\":\"histogram2d\"}],\"histogram2dcontour\":[{\"colorbar\":{\"outlinewidth\":0,\"ticks\":\"\"},\"colorscale\":[[0.0,\"#0d0887\"],[0.1111111111111111,\"#46039f\"],[0.2222222222222222,\"#7201a8\"],[0.3333333333333333,\"#9c179e\"],[0.4444444444444444,\"#bd3786\"],[0.5555555555555556,\"#d8576b\"],[0.6666666666666666,\"#ed7953\"],[0.7777777777777778,\"#fb9f3a\"],[0.8888888888888888,\"#fdca26\"],[1.0,\"#f0f921\"]],\"type\":\"histogram2dcontour\"}],\"mesh3d\":[{\"colorbar\":{\"outlinewidth\":0,\"ticks\":\"\"},\"type\":\"mesh3d\"}],\"parcoords\":[{\"line\":{\"colorbar\":{\"outlinewidth\":0,\"ticks\":\"\"}},\"type\":\"parcoords\"}],\"pie\":[{\"automargin\":true,\"type\":\"pie\"}],\"scatter\":[{\"marker\":{\"colorbar\":{\"outlinewidth\":0,\"ticks\":\"\"}},\"type\":\"scatter\"}],\"scatter3d\":[{\"line\":{\"colorbar\":{\"outlinewidth\":0,\"ticks\":\"\"}},\"marker\":{\"colorbar\":{\"outlinewidth\":0,\"ticks\":\"\"}},\"type\":\"scatter3d\"}],\"scattercarpet\":[{\"marker\":{\"colorbar\":{\"outlinewidth\":0,\"ticks\":\"\"}},\"type\":\"scattercarpet\"}],\"scattergeo\":[{\"marker\":{\"colorbar\":{\"outlinewidth\":0,\"ticks\":\"\"}},\"type\":\"scattergeo\"}],\"scattergl\":[{\"marker\":{\"colorbar\":{\"outlinewidth\":0,\"ticks\":\"\"}},\"type\":\"scattergl\"}],\"scattermapbox\":[{\"marker\":{\"colorbar\":{\"outlinewidth\":0,\"ticks\":\"\"}},\"type\":\"scattermapbox\"}],\"scatterpolar\":[{\"marker\":{\"colorbar\":{\"outlinewidth\":0,\"ticks\":\"\"}},\"type\":\"scatterpolar\"}],\"scatterpolargl\":[{\"marker\":{\"colorbar\":{\"outlinewidth\":0,\"ticks\":\"\"}},\"type\":\"scatterpolargl\"}],\"scatterternary\":[{\"marker\":{\"colorbar\":{\"outlinewidth\":0,\"ticks\":\"\"}},\"type\":\"scatterternary\"}],\"surface\":[{\"colorbar\":{\"outlinewidth\":0,\"ticks\":\"\"},\"colorscale\":[[0.0,\"#0d0887\"],[0.1111111111111111,\"#46039f\"],[0.2222222222222222,\"#7201a8\"],[0.3333333333333333,\"#9c179e\"],[0.4444444444444444,\"#bd3786\"],[0.5555555555555556,\"#d8576b\"],[0.6666666666666666,\"#ed7953\"],[0.7777777777777778,\"#fb9f3a\"],[0.8888888888888888,\"#fdca26\"],[1.0,\"#f0f921\"]],\"type\":\"surface\"}],\"table\":[{\"cells\":{\"fill\":{\"color\":\"#EBF0F8\"},\"line\":{\"color\":\"white\"}},\"header\":{\"fill\":{\"color\":\"#C8D4E3\"},\"line\":{\"color\":\"white\"}},\"type\":\"table\"}]},\"layout\":{\"annotationdefaults\":{\"arrowcolor\":\"#2a3f5f\",\"arrowhead\":0,\"arrowwidth\":1},\"autotypenumbers\":\"strict\",\"coloraxis\":{\"colorbar\":{\"outlinewidth\":0,\"ticks\":\"\"}},\"colorscale\":{\"diverging\":[[0,\"#8e0152\"],[0.1,\"#c51b7d\"],[0.2,\"#de77ae\"],[0.3,\"#f1b6da\"],[0.4,\"#fde0ef\"],[0.5,\"#f7f7f7\"],[0.6,\"#e6f5d0\"],[0.7,\"#b8e186\"],[0.8,\"#7fbc41\"],[0.9,\"#4d9221\"],[1,\"#276419\"]],\"sequential\":[[0.0,\"#0d0887\"],[0.1111111111111111,\"#46039f\"],[0.2222222222222222,\"#7201a8\"],[0.3333333333333333,\"#9c179e\"],[0.4444444444444444,\"#bd3786\"],[0.5555555555555556,\"#d8576b\"],[0.6666666666666666,\"#ed7953\"],[0.7777777777777778,\"#fb9f3a\"],[0.8888888888888888,\"#fdca26\"],[1.0,\"#f0f921\"]],\"sequentialminus\":[[0.0,\"#0d0887\"],[0.1111111111111111,\"#46039f\"],[0.2222222222222222,\"#7201a8\"],[0.3333333333333333,\"#9c179e\"],[0.4444444444444444,\"#bd3786\"],[0.5555555555555556,\"#d8576b\"],[0.6666666666666666,\"#ed7953\"],[0.7777777777777778,\"#fb9f3a\"],[0.8888888888888888,\"#fdca26\"],[1.0,\"#f0f921\"]]},\"colorway\":[\"#636efa\",\"#EF553B\",\"#00cc96\",\"#ab63fa\",\"#FFA15A\",\"#19d3f3\",\"#FF6692\",\"#B6E880\",\"#FF97FF\",\"#FECB52\"],\"font\":{\"color\":\"#2a3f5f\"},\"geo\":{\"bgcolor\":\"white\",\"lakecolor\":\"white\",\"landcolor\":\"#E5ECF6\",\"showlakes\":true,\"showland\":true,\"subunitcolor\":\"white\"},\"hoverlabel\":{\"align\":\"left\"},\"hovermode\":\"closest\",\"mapbox\":{\"style\":\"light\"},\"paper_bgcolor\":\"white\",\"plot_bgcolor\":\"#E5ECF6\",\"polar\":{\"angularaxis\":{\"gridcolor\":\"white\",\"linecolor\":\"white\",\"ticks\":\"\"},\"bgcolor\":\"#E5ECF6\",\"radialaxis\":{\"gridcolor\":\"white\",\"linecolor\":\"white\",\"ticks\":\"\"}},\"scene\":{\"xaxis\":{\"backgroundcolor\":\"#E5ECF6\",\"gridcolor\":\"white\",\"gridwidth\":2,\"linecolor\":\"white\",\"showbackground\":true,\"ticks\":\"\",\"zerolinecolor\":\"white\"},\"yaxis\":{\"backgroundcolor\":\"#E5ECF6\",\"gridcolor\":\"white\",\"gridwidth\":2,\"linecolor\":\"white\",\"showbackground\":true,\"ticks\":\"\",\"zerolinecolor\":\"white\"},\"zaxis\":{\"backgroundcolor\":\"#E5ECF6\",\"gridcolor\":\"white\",\"gridwidth\":2,\"linecolor\":\"white\",\"showbackground\":true,\"ticks\":\"\",\"zerolinecolor\":\"white\"}},\"shapedefaults\":{\"line\":{\"color\":\"#2a3f5f\"}},\"ternary\":{\"aaxis\":{\"gridcolor\":\"white\",\"linecolor\":\"white\",\"ticks\":\"\"},\"baxis\":{\"gridcolor\":\"white\",\"linecolor\":\"white\",\"ticks\":\"\"},\"bgcolor\":\"#E5ECF6\",\"caxis\":{\"gridcolor\":\"white\",\"linecolor\":\"white\",\"ticks\":\"\"}},\"title\":{\"x\":0.05},\"xaxis\":{\"automargin\":true,\"gridcolor\":\"white\",\"linecolor\":\"white\",\"ticks\":\"\",\"title\":{\"standoff\":15},\"zerolinecolor\":\"white\",\"zerolinewidth\":2},\"yaxis\":{\"automargin\":true,\"gridcolor\":\"white\",\"linecolor\":\"white\",\"ticks\":\"\",\"title\":{\"standoff\":15},\"zerolinecolor\":\"white\",\"zerolinewidth\":2}}},\"xaxis\":{\"anchor\":\"y\",\"domain\":[0.0,1.0],\"title\":{\"text\":\"x\"},\"showgrid\":true,\"gridwidth\":1,\"gridcolor\":\"#C5C6D0\"},\"yaxis\":{\"anchor\":\"x\",\"domain\":[0.0,1.0],\"title\":{\"text\":\"y: x^2\"},\"showgrid\":true,\"gridwidth\":1,\"gridcolor\":\"#C5C6D0\"},\"legend\":{\"tracegroupgap\":0},\"margin\":{\"t\":60},\"title\":{\"text\":\"Plot x from 0 to 10 and y as x^2\"},\"height\":400,\"width\":800,\"paper_bgcolor\":\"#FFFFFF\",\"plot_bgcolor\":\"#FFFFFF\",\"bargroupgap\":0.2,\"hovermode\":\"x unified\"},                        {\"responsive\": true}                    ).then(function(){\n",
              "                            \n",
              "var gd = document.getElementById('c5f2e8b5-22f5-43e3-a310-f67d458643e1');\n",
              "var x = new MutationObserver(function (mutations, observer) {{\n",
              "        var display = window.getComputedStyle(gd).display;\n",
              "        if (!display || display === 'none') {{\n",
              "            console.log([gd, 'removed!']);\n",
              "            Plotly.purge(gd);\n",
              "            observer.disconnect();\n",
              "        }}\n",
              "}});\n",
              "\n",
              "// Listen for the removal of the full notebook cells\n",
              "var notebookContainer = gd.closest('#notebook-container');\n",
              "if (notebookContainer) {{\n",
              "    x.observe(notebookContainer, {childList: true});\n",
              "}}\n",
              "\n",
              "// Listen for the clearing of the current output cell\n",
              "var outputEl = gd.closest('.output');\n",
              "if (outputEl) {{\n",
              "    x.observe(outputEl, {childList: true});\n",
              "}}\n",
              "\n",
              "                        })                };                            </script>        </div>\n",
              "</body>\n",
              "</html>"
            ]
          },
          "metadata": {}
        }
      ]
    },
    {
      "cell_type": "markdown",
      "source": [
        "## Print Sum"
      ],
      "metadata": {
        "id": "KyH53pKXlhtB"
      }
    },
    {
      "cell_type": "code",
      "source": [
        "result_sum = 0\n",
        "\n",
        "for i in range(1, 11): result_sum = result_sum + 1\n",
        "\n",
        "print(result_sum)"
      ],
      "metadata": {
        "colab": {
          "base_uri": "https://localhost:8080/"
        },
        "id": "-6HJ1K8flgzP",
        "outputId": "53226308-00bf-42a6-fc17-7d2bb7bc490a"
      },
      "execution_count": null,
      "outputs": [
        {
          "output_type": "stream",
          "name": "stdout",
          "text": [
            "10\n"
          ]
        }
      ]
    },
    {
      "cell_type": "markdown",
      "source": [
        "## Debug: cannot indent randomly"
      ],
      "metadata": {
        "id": "XxBtXOJwnmX7"
      }
    },
    {
      "cell_type": "code",
      "source": [
        "# print(\"Hello, World！\")\n",
        "# print(\"Happ Birthday!\")\n",
        "#   print(5 + 2)\n",
        "print(\"Hello, World！\")\n",
        "print(\"Happ Birthday!\")\n",
        "print(5 + 2)"
      ],
      "metadata": {
        "colab": {
          "base_uri": "https://localhost:8080/"
        },
        "id": "jrpbnyRsn0YB",
        "outputId": "ec926b62-9403-4d73-afdc-0befd2f904e5"
      },
      "execution_count": null,
      "outputs": [
        {
          "output_type": "stream",
          "name": "stdout",
          "text": [
            "Hello, World！\n",
            "Happ Birthday!\n",
            "7\n"
          ]
        }
      ]
    },
    {
      "cell_type": "markdown",
      "source": [
        "## Calculate sum of factorial\n",
        "calculate sum of 1! to 5!"
      ],
      "metadata": {
        "id": "VO4jWrB4Hamx"
      }
    },
    {
      "cell_type": "markdown",
      "source": [
        "### Just print it"
      ],
      "metadata": {
        "id": "ukxtroCqtUCD"
      }
    },
    {
      "cell_type": "code",
      "source": [
        "print( 1 * 2 * 3 * 4 * 5 + 1 * 2 * 3 * 4 + 1 * 2 * 3 + 1 * 2 + 1 )"
      ],
      "metadata": {
        "colab": {
          "base_uri": "https://localhost:8080/"
        },
        "id": "UnN2QCHKsws5",
        "outputId": "1fe68d5d-2bbe-48b0-c1be-32e08ce15e28"
      },
      "execution_count": null,
      "outputs": [
        {
          "output_type": "stream",
          "name": "stdout",
          "text": [
            "153\n"
          ]
        }
      ]
    },
    {
      "cell_type": "markdown",
      "source": [
        "### Method 1"
      ],
      "metadata": {
        "id": "X1IJbycnHlIM"
      }
    },
    {
      "cell_type": "markdown",
      "source": [
        "#### Define function: calculate_factorial"
      ],
      "metadata": {
        "id": "_5c_ZMXAHj2b"
      }
    },
    {
      "cell_type": "code",
      "execution_count": null,
      "metadata": {
        "id": "iLgTejPXGVut"
      },
      "outputs": [],
      "source": [
        "def calculate_factorial(x = 1):\n",
        "  \"\"\" run a for loop to calculate x!\n",
        "  1! = 1, 2! = 2 * 1, 3! = 3 * 2 * 1 \"\"\"\n",
        "  \n",
        "  result = 1\n",
        "\n",
        "  for i in range(1, x+1): result = result * i\n",
        "\n",
        "  return result"
      ]
    },
    {
      "cell_type": "markdown",
      "source": [
        "#### Define function: calculate_sum_of_factorial"
      ],
      "metadata": {
        "id": "tlZlfpT3Hp9l"
      }
    },
    {
      "cell_type": "code",
      "source": [
        "def calculate_sum_of_factorial(x = 1):\n",
        "  \"\"\" run a for loop to calculate sum of serial x!\n",
        "  while x = 1 then (1!), x = 2 then (1! + 2!), x = 3 then (1! + 2! + 3!)\"\"\"\n",
        "  \n",
        "  result = 0\n",
        "\n",
        "  for i in range(1, x+1): result = result + calculate_factorial(i)\n",
        "\n",
        "  return result"
      ],
      "metadata": {
        "id": "230NSmwCG2eO"
      },
      "execution_count": null,
      "outputs": []
    },
    {
      "cell_type": "markdown",
      "source": [
        "#### Test"
      ],
      "metadata": {
        "id": "JbUYfCx3I6bm"
      }
    },
    {
      "cell_type": "code",
      "source": [
        "for i in range(1,6): print(calculate_factorial(i))"
      ],
      "metadata": {
        "colab": {
          "base_uri": "https://localhost:8080/"
        },
        "id": "A9Fu-Zu2I8Y8",
        "outputId": "df58abb5-7af2-4d29-fe42-42b7d5189127"
      },
      "execution_count": null,
      "outputs": [
        {
          "output_type": "stream",
          "name": "stdout",
          "text": [
            "1\n",
            "2\n",
            "6\n",
            "24\n",
            "120\n"
          ]
        }
      ]
    },
    {
      "cell_type": "code",
      "source": [
        "for i in range(1,6): print(calculate_sum_of_factorial(i))"
      ],
      "metadata": {
        "colab": {
          "base_uri": "https://localhost:8080/"
        },
        "id": "3hO6ywXDJCbX",
        "outputId": "46e9c701-7065-42fa-e7ea-95a80917466f"
      },
      "execution_count": null,
      "outputs": [
        {
          "output_type": "stream",
          "name": "stdout",
          "text": [
            "1\n",
            "3\n",
            "9\n",
            "33\n",
            "153\n"
          ]
        }
      ]
    },
    {
      "cell_type": "markdown",
      "source": [
        "### Method 2"
      ],
      "metadata": {
        "id": "vgAU2VSoKMAz"
      }
    },
    {
      "cell_type": "markdown",
      "source": [
        "#### Test"
      ],
      "metadata": {
        "id": "qqmLA1beKPvE"
      }
    },
    {
      "cell_type": "code",
      "source": [
        "var_factorial = 5\n",
        "\n",
        "var_result = 0\n",
        "\n",
        "for i in range(1, var_factorial+1): var_result = var_result + math.factorial(i)\n",
        "\n",
        "print(var_result)"
      ],
      "metadata": {
        "colab": {
          "base_uri": "https://localhost:8080/"
        },
        "id": "0i78SbNqJN6w",
        "outputId": "9873bd10-0a3c-4997-950c-6a822e404d20"
      },
      "execution_count": null,
      "outputs": [
        {
          "output_type": "stream",
          "name": "stdout",
          "text": [
            "153\n"
          ]
        }
      ]
    },
    {
      "cell_type": "markdown",
      "source": [
        "# Chapter 02"
      ],
      "metadata": {
        "id": "QjVdaq7dt6wL"
      }
    },
    {
      "cell_type": "markdown",
      "source": [
        "## Calculate area of rectangle\n",
        "\n",
        "要求輸入梯形的上底、下底與高，然後計算梯形面積並印出結果。"
      ],
      "metadata": {
        "id": "ZCutklesuQI6"
      }
    },
    {
      "cell_type": "code",
      "source": [
        "def calculate_trapezoid_area_with_user_input():\n",
        "  \"\"\" ask for INTEGER upper, lower and height of a\n",
        "  single trapezoid with user input then return\n",
        "  a formated string with input and it's area\"\"\"\n",
        "\n",
        "  var_format = \"\"\"Calculate trapezoid area with following condition:\n",
        "   - Upper length: {:.0f}\n",
        "   - Lower length: {:.0f}\n",
        "   - Height: {:.0f}\n",
        "   - The area of this trapezoid: {:.2f}\"\"\"\n",
        "  \n",
        "  var_upper_length = int(input(\"enter upper length: \"))\n",
        "  \n",
        "  var_lower_length = int(input(\"enter lower length: \"))\n",
        "  \n",
        "  var_height = int(input(\"enter height: \"))\n",
        "  \n",
        "  var_result = ((var_upper_length + var_lower_length) * var_height / 2)\n",
        "  \n",
        "  var_result = var_format.format(var_upper_length, var_lower_length, var_height, var_result)\n",
        "  \n",
        "  print(var_result)"
      ],
      "metadata": {
        "id": "-5RJKCiat8XA"
      },
      "execution_count": null,
      "outputs": []
    },
    {
      "cell_type": "code",
      "source": [
        "calculate_trapezoid_area_with_user_input()"
      ],
      "metadata": {
        "colab": {
          "base_uri": "https://localhost:8080/"
        },
        "id": "5J-OBbWFu80i",
        "outputId": "302ada34-72da-40e5-9259-f9f9557343a8"
      },
      "execution_count": null,
      "outputs": [
        {
          "output_type": "stream",
          "name": "stdout",
          "text": [
            "enter upper length: 199\n",
            "enter lower length: 579\n",
            "enter height: 23\n",
            "Calculate trapezoid area with following condition:\n",
            "   - Upper length: 199\n",
            "   - Lower length: 579\n",
            "   - Height: 23\n",
            "   - The area of this trapezoid: 8947.00\n"
          ]
        }
      ]
    }
  ]
}